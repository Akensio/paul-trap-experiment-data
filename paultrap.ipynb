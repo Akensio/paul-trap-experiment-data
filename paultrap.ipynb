{
 "cells": [
  {
   "cell_type": "markdown",
   "metadata": {},
   "source": [
    "Added laser tables to `0_raw_laser` and `1_filtered_data` manually + excel formatting"
   ]
  },
  {
   "cell_type": "code",
   "execution_count": 89,
   "metadata": {},
   "outputs": [],
   "source": [
    "import pandas as pd\n",
    "import numpy as np\n",
    "from ODR import odr_fit\n",
    "from scipy.stats import chi2"
   ]
  },
  {
   "cell_type": "markdown",
   "metadata": {},
   "source": [
    "### Length and height measurements"
   ]
  },
  {
   "cell_type": "markdown",
   "metadata": {},
   "source": [
    "1. Read data"
   ]
  },
  {
   "cell_type": "code",
   "execution_count": 90,
   "metadata": {},
   "outputs": [
    {
     "data": {
      "text/html": [
       "<div>\n",
       "<style scoped>\n",
       "    .dataframe tbody tr th:only-of-type {\n",
       "        vertical-align: middle;\n",
       "    }\n",
       "\n",
       "    .dataframe tbody tr th {\n",
       "        vertical-align: top;\n",
       "    }\n",
       "\n",
       "    .dataframe thead th {\n",
       "        text-align: right;\n",
       "    }\n",
       "</style>\n",
       "<table border=\"1\" class=\"dataframe\">\n",
       "  <thead>\n",
       "    <tr style=\"text-align: right;\">\n",
       "      <th></th>\n",
       "      <th>picture_name</th>\n",
       "      <th>bottom_pixel</th>\n",
       "      <th>bottom_pixel_error</th>\n",
       "      <th>top_pixel</th>\n",
       "      <th>top_pixel_error</th>\n",
       "      <th>DC-kilovolts</th>\n",
       "      <th>DC_error-kilovolts</th>\n",
       "      <th>length-pixels</th>\n",
       "      <th>length_error-pixels</th>\n",
       "      <th>height-pixels</th>\n",
       "      <th>height_error-pixels</th>\n",
       "    </tr>\n",
       "  </thead>\n",
       "  <tbody>\n",
       "    <tr>\n",
       "      <th>0</th>\n",
       "      <td>DSC03175.JPG</td>\n",
       "      <td>1652</td>\n",
       "      <td>15</td>\n",
       "      <td>1576</td>\n",
       "      <td>15</td>\n",
       "      <td>0.65691</td>\n",
       "      <td>0.0001</td>\n",
       "      <td>76</td>\n",
       "      <td>21.213203</td>\n",
       "      <td>1614.0</td>\n",
       "      <td>21.213203</td>\n",
       "    </tr>\n",
       "    <tr>\n",
       "      <th>1</th>\n",
       "      <td>DSC03176.JPG</td>\n",
       "      <td>1635</td>\n",
       "      <td>15</td>\n",
       "      <td>1518</td>\n",
       "      <td>15</td>\n",
       "      <td>0.71537</td>\n",
       "      <td>0.0001</td>\n",
       "      <td>117</td>\n",
       "      <td>21.213203</td>\n",
       "      <td>1576.5</td>\n",
       "      <td>21.213203</td>\n",
       "    </tr>\n",
       "    <tr>\n",
       "      <th>2</th>\n",
       "      <td>DSC03177.JPG</td>\n",
       "      <td>1631</td>\n",
       "      <td>15</td>\n",
       "      <td>1466</td>\n",
       "      <td>15</td>\n",
       "      <td>0.75569</td>\n",
       "      <td>0.0001</td>\n",
       "      <td>165</td>\n",
       "      <td>21.213203</td>\n",
       "      <td>1548.5</td>\n",
       "      <td>21.213203</td>\n",
       "    </tr>\n",
       "    <tr>\n",
       "      <th>3</th>\n",
       "      <td>DSC03178.JPG</td>\n",
       "      <td>1628</td>\n",
       "      <td>15</td>\n",
       "      <td>1404</td>\n",
       "      <td>15</td>\n",
       "      <td>0.80554</td>\n",
       "      <td>0.0001</td>\n",
       "      <td>224</td>\n",
       "      <td>21.213203</td>\n",
       "      <td>1516.0</td>\n",
       "      <td>21.213203</td>\n",
       "    </tr>\n",
       "    <tr>\n",
       "      <th>4</th>\n",
       "      <td>DSC03179.JPG</td>\n",
       "      <td>1622</td>\n",
       "      <td>15</td>\n",
       "      <td>1346</td>\n",
       "      <td>15</td>\n",
       "      <td>0.85004</td>\n",
       "      <td>0.0001</td>\n",
       "      <td>276</td>\n",
       "      <td>21.213203</td>\n",
       "      <td>1484.0</td>\n",
       "      <td>21.213203</td>\n",
       "    </tr>\n",
       "    <tr>\n",
       "      <th>5</th>\n",
       "      <td>DSC03180.JPG</td>\n",
       "      <td>1617</td>\n",
       "      <td>15</td>\n",
       "      <td>1285</td>\n",
       "      <td>15</td>\n",
       "      <td>0.90011</td>\n",
       "      <td>0.0001</td>\n",
       "      <td>332</td>\n",
       "      <td>21.213203</td>\n",
       "      <td>1451.0</td>\n",
       "      <td>21.213203</td>\n",
       "    </tr>\n",
       "    <tr>\n",
       "      <th>6</th>\n",
       "      <td>DSC03181.JPG</td>\n",
       "      <td>1611</td>\n",
       "      <td>15</td>\n",
       "      <td>1221</td>\n",
       "      <td>15</td>\n",
       "      <td>0.95268</td>\n",
       "      <td>0.0001</td>\n",
       "      <td>390</td>\n",
       "      <td>21.213203</td>\n",
       "      <td>1416.0</td>\n",
       "      <td>21.213203</td>\n",
       "    </tr>\n",
       "    <tr>\n",
       "      <th>7</th>\n",
       "      <td>DSC03182.JPG</td>\n",
       "      <td>1610</td>\n",
       "      <td>15</td>\n",
       "      <td>1144</td>\n",
       "      <td>15</td>\n",
       "      <td>1.00995</td>\n",
       "      <td>0.0001</td>\n",
       "      <td>466</td>\n",
       "      <td>21.213203</td>\n",
       "      <td>1377.0</td>\n",
       "      <td>21.213203</td>\n",
       "    </tr>\n",
       "    <tr>\n",
       "      <th>8</th>\n",
       "      <td>DSC03183.JPG</td>\n",
       "      <td>1604</td>\n",
       "      <td>15</td>\n",
       "      <td>1089</td>\n",
       "      <td>15</td>\n",
       "      <td>1.05120</td>\n",
       "      <td>0.0001</td>\n",
       "      <td>515</td>\n",
       "      <td>21.213203</td>\n",
       "      <td>1346.5</td>\n",
       "      <td>21.213203</td>\n",
       "    </tr>\n",
       "    <tr>\n",
       "      <th>9</th>\n",
       "      <td>DSC03184.JPG</td>\n",
       "      <td>1597</td>\n",
       "      <td>15</td>\n",
       "      <td>1017</td>\n",
       "      <td>15</td>\n",
       "      <td>1.10904</td>\n",
       "      <td>0.0001</td>\n",
       "      <td>580</td>\n",
       "      <td>21.213203</td>\n",
       "      <td>1307.0</td>\n",
       "      <td>21.213203</td>\n",
       "    </tr>\n",
       "    <tr>\n",
       "      <th>10</th>\n",
       "      <td>DSC03185.JPG</td>\n",
       "      <td>1595</td>\n",
       "      <td>15</td>\n",
       "      <td>957</td>\n",
       "      <td>15</td>\n",
       "      <td>1.15601</td>\n",
       "      <td>0.0001</td>\n",
       "      <td>638</td>\n",
       "      <td>21.213203</td>\n",
       "      <td>1276.0</td>\n",
       "      <td>21.213203</td>\n",
       "    </tr>\n",
       "    <tr>\n",
       "      <th>11</th>\n",
       "      <td>DSC03186.JPG</td>\n",
       "      <td>1593</td>\n",
       "      <td>15</td>\n",
       "      <td>898</td>\n",
       "      <td>15</td>\n",
       "      <td>1.20000</td>\n",
       "      <td>0.0001</td>\n",
       "      <td>695</td>\n",
       "      <td>21.213203</td>\n",
       "      <td>1245.5</td>\n",
       "      <td>21.213203</td>\n",
       "    </tr>\n",
       "    <tr>\n",
       "      <th>12</th>\n",
       "      <td>DSC03187.JPG</td>\n",
       "      <td>1592</td>\n",
       "      <td>15</td>\n",
       "      <td>840</td>\n",
       "      <td>15</td>\n",
       "      <td>1.25010</td>\n",
       "      <td>0.0001</td>\n",
       "      <td>752</td>\n",
       "      <td>21.213203</td>\n",
       "      <td>1216.0</td>\n",
       "      <td>21.213203</td>\n",
       "    </tr>\n",
       "    <tr>\n",
       "      <th>13</th>\n",
       "      <td>DSC03188.JPG</td>\n",
       "      <td>1583</td>\n",
       "      <td>15</td>\n",
       "      <td>774</td>\n",
       "      <td>15</td>\n",
       "      <td>1.30000</td>\n",
       "      <td>0.0001</td>\n",
       "      <td>809</td>\n",
       "      <td>21.213203</td>\n",
       "      <td>1178.5</td>\n",
       "      <td>21.213203</td>\n",
       "    </tr>\n",
       "    <tr>\n",
       "      <th>14</th>\n",
       "      <td>DSC03189.JPG</td>\n",
       "      <td>1577</td>\n",
       "      <td>15</td>\n",
       "      <td>703</td>\n",
       "      <td>15</td>\n",
       "      <td>1.35050</td>\n",
       "      <td>0.0001</td>\n",
       "      <td>874</td>\n",
       "      <td>21.213203</td>\n",
       "      <td>1140.0</td>\n",
       "      <td>21.213203</td>\n",
       "    </tr>\n",
       "    <tr>\n",
       "      <th>15</th>\n",
       "      <td>DSC03190.JPG</td>\n",
       "      <td>1574</td>\n",
       "      <td>15</td>\n",
       "      <td>593</td>\n",
       "      <td>15</td>\n",
       "      <td>1.40110</td>\n",
       "      <td>0.0001</td>\n",
       "      <td>981</td>\n",
       "      <td>21.213203</td>\n",
       "      <td>1083.5</td>\n",
       "      <td>21.213203</td>\n",
       "    </tr>\n",
       "    <tr>\n",
       "      <th>16</th>\n",
       "      <td>DSC03191.JPG</td>\n",
       "      <td>1575</td>\n",
       "      <td>15</td>\n",
       "      <td>538</td>\n",
       "      <td>15</td>\n",
       "      <td>1.45240</td>\n",
       "      <td>0.0001</td>\n",
       "      <td>1037</td>\n",
       "      <td>21.213203</td>\n",
       "      <td>1056.5</td>\n",
       "      <td>21.213203</td>\n",
       "    </tr>\n",
       "    <tr>\n",
       "      <th>18</th>\n",
       "      <td>DSC03193.JPG</td>\n",
       "      <td>1579</td>\n",
       "      <td>15</td>\n",
       "      <td>471</td>\n",
       "      <td>15</td>\n",
       "      <td>1.50090</td>\n",
       "      <td>0.0001</td>\n",
       "      <td>1108</td>\n",
       "      <td>21.213203</td>\n",
       "      <td>1025.0</td>\n",
       "      <td>21.213203</td>\n",
       "    </tr>\n",
       "  </tbody>\n",
       "</table>\n",
       "</div>"
      ],
      "text/plain": [
       "    picture_name  bottom_pixel  bottom_pixel_error  top_pixel  \\\n",
       "0   DSC03175.JPG          1652                  15       1576   \n",
       "1   DSC03176.JPG          1635                  15       1518   \n",
       "2   DSC03177.JPG          1631                  15       1466   \n",
       "3   DSC03178.JPG          1628                  15       1404   \n",
       "4   DSC03179.JPG          1622                  15       1346   \n",
       "5   DSC03180.JPG          1617                  15       1285   \n",
       "6   DSC03181.JPG          1611                  15       1221   \n",
       "7   DSC03182.JPG          1610                  15       1144   \n",
       "8   DSC03183.JPG          1604                  15       1089   \n",
       "9   DSC03184.JPG          1597                  15       1017   \n",
       "10  DSC03185.JPG          1595                  15        957   \n",
       "11  DSC03186.JPG          1593                  15        898   \n",
       "12  DSC03187.JPG          1592                  15        840   \n",
       "13  DSC03188.JPG          1583                  15        774   \n",
       "14  DSC03189.JPG          1577                  15        703   \n",
       "15  DSC03190.JPG          1574                  15        593   \n",
       "16  DSC03191.JPG          1575                  15        538   \n",
       "18  DSC03193.JPG          1579                  15        471   \n",
       "\n",
       "    top_pixel_error  DC-kilovolts  DC_error-kilovolts  length-pixels  \\\n",
       "0                15       0.65691              0.0001             76   \n",
       "1                15       0.71537              0.0001            117   \n",
       "2                15       0.75569              0.0001            165   \n",
       "3                15       0.80554              0.0001            224   \n",
       "4                15       0.85004              0.0001            276   \n",
       "5                15       0.90011              0.0001            332   \n",
       "6                15       0.95268              0.0001            390   \n",
       "7                15       1.00995              0.0001            466   \n",
       "8                15       1.05120              0.0001            515   \n",
       "9                15       1.10904              0.0001            580   \n",
       "10               15       1.15601              0.0001            638   \n",
       "11               15       1.20000              0.0001            695   \n",
       "12               15       1.25010              0.0001            752   \n",
       "13               15       1.30000              0.0001            809   \n",
       "14               15       1.35050              0.0001            874   \n",
       "15               15       1.40110              0.0001            981   \n",
       "16               15       1.45240              0.0001           1037   \n",
       "18               15       1.50090              0.0001           1108   \n",
       "\n",
       "    length_error-pixels  height-pixels  height_error-pixels  \n",
       "0             21.213203         1614.0            21.213203  \n",
       "1             21.213203         1576.5            21.213203  \n",
       "2             21.213203         1548.5            21.213203  \n",
       "3             21.213203         1516.0            21.213203  \n",
       "4             21.213203         1484.0            21.213203  \n",
       "5             21.213203         1451.0            21.213203  \n",
       "6             21.213203         1416.0            21.213203  \n",
       "7             21.213203         1377.0            21.213203  \n",
       "8             21.213203         1346.5            21.213203  \n",
       "9             21.213203         1307.0            21.213203  \n",
       "10            21.213203         1276.0            21.213203  \n",
       "11            21.213203         1245.5            21.213203  \n",
       "12            21.213203         1216.0            21.213203  \n",
       "13            21.213203         1178.5            21.213203  \n",
       "14            21.213203         1140.0            21.213203  \n",
       "15            21.213203         1083.5            21.213203  \n",
       "16            21.213203         1056.5            21.213203  \n",
       "18            21.213203         1025.0            21.213203  "
      ]
     },
     "execution_count": 90,
     "metadata": {},
     "output_type": "execute_result"
    }
   ],
   "source": [
    "df = pd.read_excel(\"data.xlsx\", sheet_name=\"1_filtered_data\", index_col=0)\n",
    "# Dropping measurements with very high errors\n",
    "df = df.drop(list(range(20,31)))# + [16, 18, 15, 0])\n",
    "df"
   ]
  },
  {
   "cell_type": "markdown",
   "metadata": {},
   "source": [
    "Plot length"
   ]
  },
  {
   "cell_type": "code",
   "execution_count": 91,
   "metadata": {},
   "outputs": [
    {
     "name": "stdout",
     "output_type": "stream",
     "text": [
      "Slope: 1227.613767 ± 16.907272,\n",
      "Intercept: -766.791079 ± 18.749720\n",
      "Chi-square: 12.09543734487281,\n",
      "Degreem freedom: 16,\n",
      "Reduced Chi-square: 0.7559648340545506,\n",
      "P-value: 0.737384289157925\n"
     ]
    }
   ],
   "source": [
    "results, chi_square, degrees_freedom, chi_square_reduced, p_value = odr_fit.perform_odr(\n",
    "    df[\"DC-kilovolts\"].values,\n",
    "    df[\"DC_error-kilovolts\"].values,\n",
    "    df[\"length-pixels\"].values,\n",
    "    df[\"length_error-pixels\"].values,\n",
    ")\n",
    "print(\n",
    "    f\"Slope: {results.beta[0]:.6f} ± {results.sd_beta[0]:.6f},\\n\"\n",
    "    f\"Intercept: {results.beta[1]:.6f} ± {results.sd_beta[1]:.6f}\\n\"\n",
    "    f\"Chi-square: {chi_square},\\n\"\n",
    "    f\"Degreem freedom: {degrees_freedom},\\n\"\n",
    "    f\"Reduced Chi-square: {chi_square_reduced},\\n\"\n",
    "    f\"P-value: {p_value}\"\n",
    ")\n",
    "\n",
    "odr_fit.plot_fit(\n",
    "    df[\"DC-kilovolts\"].values,\n",
    "    df[\"DC_error-kilovolts\"].values,\n",
    "    df[\"length-pixels\"].values,\n",
    "    df[\"length_error-pixels\"].values,\n",
    "    results,\n",
    "    \"plot_length_fit.png\",\n",
    ")\n",
    "\n",
    "odr_fit.plot_residuals(\n",
    "    df[\"DC-kilovolts\"].values,\n",
    "    df[\"DC_error-kilovolts\"].values,\n",
    "    df[\"length-pixels\"].values,\n",
    "    df[\"length_error-pixels\"].values,\n",
    "    results,\n",
    "    \"plot_length_residuals.png\",\n",
    ")"
   ]
  },
  {
   "cell_type": "markdown",
   "metadata": {},
   "source": [
    "Plot height"
   ]
  },
  {
   "cell_type": "code",
   "execution_count": 92,
   "metadata": {},
   "outputs": [
    {
     "name": "stdout",
     "output_type": "stream",
     "text": [
      "Slope: -699.403421 ± 5.987239,\n",
      "Intercept: 2079.899661 ± 6.639691\n",
      "Chi-square: 1.5168314255345563,\n",
      "Degreem freedom: 16,\n",
      "Reduced Chi-square: 0.09480196409590977,\n",
      "P-value: 0.9999986124818915\n"
     ]
    }
   ],
   "source": [
    "results, chi_square, degrees_freedom, chi_square_reduced, p_value = odr_fit.perform_odr(\n",
    "    df[\"DC-kilovolts\"].values,\n",
    "    df[\"DC_error-kilovolts\"].values,\n",
    "    df[\"height-pixels\"].values,\n",
    "    df[\"height_error-pixels\"].values,\n",
    ")\n",
    "print(\n",
    "    f\"Slope: {results.beta[0]:.6f} ± {results.sd_beta[0]:.6f},\\n\"\n",
    "    f\"Intercept: {results.beta[1]:.6f} ± {results.sd_beta[1]:.6f}\\n\"\n",
    "    f\"Chi-square: {chi_square},\\n\"\n",
    "    f\"Degreem freedom: {degrees_freedom},\\n\"\n",
    "    f\"Reduced Chi-square: {chi_square_reduced},\\n\"\n",
    "    f\"P-value: {p_value}\"\n",
    ")\n",
    "\n",
    "\n",
    "odr_fit.plot_fit(\n",
    "    df[\"DC-kilovolts\"].values,\n",
    "    df[\"DC_error-kilovolts\"].values,\n",
    "    df[\"height-pixels\"].values,\n",
    "    df[\"height_error-pixels\"].values,\n",
    "    results,\n",
    "    \"plot_height_fit.png\",\n",
    ")\n",
    "\n",
    "odr_fit.plot_residuals(\n",
    "    df[\"DC-kilovolts\"].values,\n",
    "    df[\"DC_error-kilovolts\"].values,\n",
    "    df[\"height-pixels\"].values,\n",
    "    df[\"height_error-pixels\"].values,\n",
    "    results,\n",
    "    \"plot_height_residuals.png\",\n",
    ")"
   ]
  },
  {
   "cell_type": "markdown",
   "metadata": {},
   "source": [
    "### Stick measurements\n",
    "Get pixel length in mm\n",
    "mathtest:\n",
    "$$\n",
    "\\left(\\frac{a}{b}\\right)\n",
    "$$"
   ]
  },
  {
   "cell_type": "code",
   "execution_count": 93,
   "metadata": {},
   "outputs": [
    {
     "data": {
      "text/plain": [
       "(np.float64(0.0005934615365156852), np.float64(1.6843048484052963e-06))"
      ]
     },
     "execution_count": 93,
     "metadata": {},
     "output_type": "execute_result"
    }
   ],
   "source": [
    "df = pd.read_excel(\"data.xlsx\", sheet_name=\"2_stick_measurements\", index_col=0)\n",
    "\n",
    "stick_diameter_in_mm = 1.25\n",
    "stick_diameter_measurements = df[\"diameter_length-pixels\"].values\n",
    "\n",
    "# Calculate stick diameter in pixels, using mean\n",
    "stick_diameter_in_pixels = np.mean(stick_diameter_measurements)\n",
    "\n",
    "# Calculate the error:\n",
    "# Calculating the standard error of the mean, applying Bessel's correction\n",
    "std_dev = np.std(stick_diameter_measurements, ddof=1)\n",
    "sem = std_dev / np.sqrt(len(stick_diameter_measurements))\n",
    "# Getting the measurement error from the data - it is constant for all measurements\n",
    "measurement_error_in_pixels = df[\"diameter_length_error-pixels\"].values[0]\n",
    "# Calculating the total error\n",
    "stick_diameter_error_in_pixels = np.sqrt(measurement_error_in_pixels ** 2 + sem ** 2)\n",
    "\n",
    "# Calculate the pixel to mm conversion factor\n",
    "pixel_to_mm = stick_diameter_in_mm / stick_diameter_in_pixels\n",
    "pixel_to_mm_error = pixel_to_mm * stick_diameter_error_in_pixels / stick_diameter_in_pixels\n",
    "\n",
    "pixel_to_mm, pixel_to_mm_error"
   ]
  },
  {
   "cell_type": "markdown",
   "metadata": {},
   "source": [
    "### Particle mass measurement\n",
    "Measure the particle's diameter"
   ]
  },
  {
   "cell_type": "code",
   "execution_count": 94,
   "metadata": {},
   "outputs": [
    {
     "data": {
      "text/plain": [
       "(np.float64(0.029475256313612364), np.float64(0.0007181409158178655))"
      ]
     },
     "execution_count": 94,
     "metadata": {},
     "output_type": "execute_result"
    }
   ],
   "source": [
    "df = pd.read_excel(\"data.xlsx\", sheet_name=\"3_particle_measurements\", index_col=0)\n",
    "particle_diameter_measurements = df[\"diameter-pixels\"].values\n",
    "\n",
    "# Calculate particle diameter in pixels\n",
    "particle_diameter_in_pixels = np.mean(particle_diameter_measurements)\n",
    "\n",
    "# Calculate the statistical error\n",
    "particle_diameter_error_in_pixels = np.std(particle_diameter_measurements, ddof=1) / np.sqrt(len(particle_diameter_measurements))\n",
    "\n",
    "# Particle diameter in mm\n",
    "particle_diameter_in_mm = particle_diameter_in_pixels * pixel_to_mm\n",
    "particle_diameter_error_in_mm = np.sqrt(\n",
    "    (particle_diameter_error_in_pixels * pixel_to_mm) ** 2 + (particle_diameter_in_pixels * pixel_to_mm_error) ** 2\n",
    ")\n",
    "\n",
    "particle_diameter_in_mm, particle_diameter_error_in_mm"
   ]
  },
  {
   "cell_type": "markdown",
   "metadata": {},
   "source": [
    "Calculate the particle's volume"
   ]
  },
  {
   "cell_type": "code",
   "execution_count": 95,
   "metadata": {},
   "outputs": [
    {
     "data": {
      "text/plain": [
       "(np.float64(1.3408228218918054e-05), np.float64(9.800420926126294e-07))"
      ]
     },
     "execution_count": 95,
     "metadata": {},
     "output_type": "execute_result"
    }
   ],
   "source": [
    "# Assuming the particle is a sphere:\n",
    "particle_volume_in_mm_cubed = (np.pi * (particle_diameter_in_mm ** 3)) / 6\n",
    "particle_volume_error_in_mm_cubed = particle_volume_in_mm_cubed * 3 * (particle_diameter_error_in_mm / particle_diameter_in_mm)\n",
    "\n",
    "particle_volume_in_mm_cubed, particle_volume_error_in_mm_cubed"
   ]
  },
  {
   "cell_type": "markdown",
   "metadata": {},
   "source": [
    "Calculate the particle's mass using known density"
   ]
  },
  {
   "cell_type": "code",
   "execution_count": 96,
   "metadata": {},
   "outputs": [
    {
     "data": {
      "text/plain": [
       "(np.float64(6.838196391648207e-12), np.float64(7.331237504400842e-13))"
      ]
     },
     "execution_count": 96,
     "metadata": {},
     "output_type": "execute_result"
    }
   ],
   "source": [
    "PARTICLE_DENSITY_IN_KG_OVER_M_CUBED = 510\n",
    "PARTICLE_DENSITY_ERROR_IN_KG_OVER_M_CUBED = 40\n",
    "\n",
    "particle_volume_in_m_cubed = particle_volume_in_mm_cubed * 1e-9\n",
    "particle_volume_error_in_m_cubed = particle_volume_error_in_mm_cubed * 1e-9\n",
    "\n",
    "particle_mass_in_kg = particle_volume_in_m_cubed * PARTICLE_DENSITY_IN_KG_OVER_M_CUBED\n",
    "particle_mass_error_in_kg = np.sqrt(\n",
    "    (particle_volume_error_in_m_cubed * PARTICLE_DENSITY_IN_KG_OVER_M_CUBED) ** 2 + (particle_volume_in_m_cubed * PARTICLE_DENSITY_ERROR_IN_KG_OVER_M_CUBED) ** 2\n",
    ")\n",
    "\n",
    "particle_mass_in_kg, particle_mass_error_in_kg"
   ]
  },
  {
   "cell_type": "markdown",
   "metadata": {},
   "source": [
    "### Particle charge\n",
    "Calculate the suspension DC using the monitor DC measurements when the particle was suspended. Ignore AC effect."
   ]
  },
  {
   "cell_type": "code",
   "execution_count": 97,
   "metadata": {},
   "outputs": [
    {
     "data": {
      "text/plain": [
       "(np.float64(676.6633333333333),\n",
       " np.float64(1.1900186739897933),\n",
       " np.float64(55481.473333333335),\n",
       " np.float64(97.57287867496896))"
      ]
     },
     "execution_count": 97,
     "metadata": {},
     "output_type": "execute_result"
    }
   ],
   "source": [
    "df = pd.read_excel(\"data.xlsx\", sheet_name=\"4_charge_measurements\", index_col=0)\n",
    "mon_dc_measurements = df[\"dc-kilovolts\"].values\n",
    "\n",
    "# Calculate the DC needed to suspend the particle\n",
    "mon_dc_in_volts = np.mean(mon_dc_measurements * 1e+3)\n",
    "\n",
    "# Calculate the error\n",
    "mon_dc_error_in_volts = np.std(mon_dc_measurements * 1e+3, ddof=1) / np.sqrt(len(mon_dc_measurements))\n",
    "\n",
    "def convert_mon_dc_to_suspension_dc(mon_dc):\n",
    "    return 82 * (mon_dc - 0.06)\n",
    "\n",
    "suspension_dc_in_volts = convert_mon_dc_to_suspension_dc(mon_dc_in_volts)\n",
    "suspension_dc_error_in_volts = suspension_dc_in_volts * mon_dc_error_in_volts / mon_dc_in_volts\n",
    "\n",
    "mon_dc_in_volts, mon_dc_error_in_volts, suspension_dc_in_volts, suspension_dc_error_in_volts"
   ]
  },
  {
   "cell_type": "markdown",
   "metadata": {},
   "source": [
    "Calculate the electric field used to hold the particle"
   ]
  },
  {
   "cell_type": "code",
   "execution_count": 98,
   "metadata": {},
   "outputs": [
    {
     "data": {
      "text/plain": [
       "(np.float64(3281526.166666667), np.float64(5771.078799678043))"
      ]
     },
     "execution_count": 98,
     "metadata": {},
     "output_type": "execute_result"
    }
   ],
   "source": [
    "def convert_mon_dc_to_suspension_field(mon_dc):\n",
    "    return 4850 * (mon_dc - 0.06)\n",
    "\n",
    "suspension_field_in_volts_per_m = convert_mon_dc_to_suspension_field(mon_dc_in_volts)\n",
    "suspension_field_error_in_volts_per_m = suspension_field_in_volts_per_m * mon_dc_error_in_volts / mon_dc_in_volts \n",
    "\n",
    "suspension_field_in_volts_per_m, suspension_field_error_in_volts_per_m"
   ]
  },
  {
   "cell_type": "markdown",
   "metadata": {},
   "source": [
    "Calculate the charge over mass and then the charge itself"
   ]
  },
  {
   "cell_type": "code",
   "execution_count": 99,
   "metadata": {},
   "outputs": [
    {
     "data": {
      "text/plain": [
       "(np.float64(2.9894626773507872e-06), np.float64(5.257439314345826e-09))"
      ]
     },
     "execution_count": 99,
     "metadata": {},
     "output_type": "execute_result"
    }
   ],
   "source": [
    "GRAVITATIONAL_ACCELERATION_IN_M_PER_SEC_SQUARED = 9.81\n",
    "\n",
    "particle_charge_per_mass_in_c_over_kg = GRAVITATIONAL_ACCELERATION_IN_M_PER_SEC_SQUARED / suspension_field_in_volts_per_m\n",
    "particle_charge_per_mass_error_in_c_over_kg = (\n",
    "    particle_charge_per_mass_in_c_over_kg * (suspension_field_error_in_volts_per_m / suspension_field_in_volts_per_m)\n",
    ")\n",
    "\n",
    "particle_charge_per_mass_in_c_over_kg, particle_charge_per_mass_error_in_c_over_kg"
   ]
  },
  {
   "cell_type": "code",
   "execution_count": 100,
   "metadata": {},
   "outputs": [
    {
     "data": {
      "text/plain": [
       "(np.float64(2.044253289322714e-17), np.float64(2.1919409404381304e-18))"
      ]
     },
     "execution_count": 100,
     "metadata": {},
     "output_type": "execute_result"
    }
   ],
   "source": [
    "particle_charge_in_coulomb = particle_charge_per_mass_in_c_over_kg * particle_mass_in_kg\n",
    "particle_charge_error_in_coulomb = np.sqrt(\n",
    "    (particle_charge_per_mass_error_in_c_over_kg * particle_mass_in_kg) ** 2 + (particle_charge_per_mass_in_c_over_kg * particle_mass_error_in_kg) ** 2\n",
    ")\n",
    "\n",
    "particle_charge_in_coulomb, particle_charge_error_in_coulomb"
   ]
  }
 ],
 "metadata": {
  "kernelspec": {
   "display_name": ".venv",
   "language": "python",
   "name": "python3"
  },
  "language_info": {
   "codemirror_mode": {
    "name": "ipython",
    "version": 3
   },
   "file_extension": ".py",
   "mimetype": "text/x-python",
   "name": "python",
   "nbconvert_exporter": "python",
   "pygments_lexer": "ipython3",
   "version": "3.12.3"
  }
 },
 "nbformat": 4,
 "nbformat_minor": 2
}
