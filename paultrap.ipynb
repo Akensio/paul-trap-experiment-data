{
 "cells": [
  {
   "cell_type": "markdown",
   "metadata": {},
   "source": [
    "Added laser tables to `0_raw_laser` and `1_filtered_data` manually + excel formatting"
   ]
  },
  {
   "cell_type": "code",
   "execution_count": 64,
   "metadata": {},
   "outputs": [],
   "source": [
    "import pandas as pd\n",
    "import numpy as np\n",
    "from ODR import odr_fit"
   ]
  },
  {
   "cell_type": "markdown",
   "metadata": {},
   "source": [
    "### Length and height measurements"
   ]
  },
  {
   "cell_type": "markdown",
   "metadata": {},
   "source": [
    "1. Read data"
   ]
  },
  {
   "cell_type": "code",
   "execution_count": 65,
   "metadata": {},
   "outputs": [
    {
     "data": {
      "text/html": [
       "<div>\n",
       "<style scoped>\n",
       "    .dataframe tbody tr th:only-of-type {\n",
       "        vertical-align: middle;\n",
       "    }\n",
       "\n",
       "    .dataframe tbody tr th {\n",
       "        vertical-align: top;\n",
       "    }\n",
       "\n",
       "    .dataframe thead th {\n",
       "        text-align: right;\n",
       "    }\n",
       "</style>\n",
       "<table border=\"1\" class=\"dataframe\">\n",
       "  <thead>\n",
       "    <tr style=\"text-align: right;\">\n",
       "      <th></th>\n",
       "      <th>picture_name</th>\n",
       "      <th>bottom_pixel</th>\n",
       "      <th>bottom_pixel_error</th>\n",
       "      <th>top_pixel</th>\n",
       "      <th>top_pixel_error</th>\n",
       "      <th>DC-volts</th>\n",
       "      <th>DC_error-volts</th>\n",
       "      <th>length-pixels</th>\n",
       "      <th>length_error-pixels</th>\n",
       "      <th>height-pixels</th>\n",
       "      <th>height_error-pixels</th>\n",
       "    </tr>\n",
       "  </thead>\n",
       "  <tbody>\n",
       "    <tr>\n",
       "      <th>1</th>\n",
       "      <td>DSC03176.JPG</td>\n",
       "      <td>1635</td>\n",
       "      <td>15</td>\n",
       "      <td>1518</td>\n",
       "      <td>15</td>\n",
       "      <td>0.71537</td>\n",
       "      <td>0.0001</td>\n",
       "      <td>117</td>\n",
       "      <td>21.213203</td>\n",
       "      <td>1576.5</td>\n",
       "      <td>21.213203</td>\n",
       "    </tr>\n",
       "    <tr>\n",
       "      <th>2</th>\n",
       "      <td>DSC03177.JPG</td>\n",
       "      <td>1631</td>\n",
       "      <td>15</td>\n",
       "      <td>1466</td>\n",
       "      <td>15</td>\n",
       "      <td>0.75569</td>\n",
       "      <td>0.0001</td>\n",
       "      <td>165</td>\n",
       "      <td>21.213203</td>\n",
       "      <td>1548.5</td>\n",
       "      <td>21.213203</td>\n",
       "    </tr>\n",
       "    <tr>\n",
       "      <th>3</th>\n",
       "      <td>DSC03178.JPG</td>\n",
       "      <td>1628</td>\n",
       "      <td>15</td>\n",
       "      <td>1404</td>\n",
       "      <td>15</td>\n",
       "      <td>0.80554</td>\n",
       "      <td>0.0001</td>\n",
       "      <td>224</td>\n",
       "      <td>21.213203</td>\n",
       "      <td>1516.0</td>\n",
       "      <td>21.213203</td>\n",
       "    </tr>\n",
       "    <tr>\n",
       "      <th>4</th>\n",
       "      <td>DSC03179.JPG</td>\n",
       "      <td>1622</td>\n",
       "      <td>15</td>\n",
       "      <td>1346</td>\n",
       "      <td>15</td>\n",
       "      <td>0.85004</td>\n",
       "      <td>0.0001</td>\n",
       "      <td>276</td>\n",
       "      <td>21.213203</td>\n",
       "      <td>1484.0</td>\n",
       "      <td>21.213203</td>\n",
       "    </tr>\n",
       "    <tr>\n",
       "      <th>5</th>\n",
       "      <td>DSC03180.JPG</td>\n",
       "      <td>1617</td>\n",
       "      <td>15</td>\n",
       "      <td>1285</td>\n",
       "      <td>15</td>\n",
       "      <td>0.90011</td>\n",
       "      <td>0.0001</td>\n",
       "      <td>332</td>\n",
       "      <td>21.213203</td>\n",
       "      <td>1451.0</td>\n",
       "      <td>21.213203</td>\n",
       "    </tr>\n",
       "    <tr>\n",
       "      <th>6</th>\n",
       "      <td>DSC03181.JPG</td>\n",
       "      <td>1611</td>\n",
       "      <td>15</td>\n",
       "      <td>1221</td>\n",
       "      <td>15</td>\n",
       "      <td>0.95268</td>\n",
       "      <td>0.0001</td>\n",
       "      <td>390</td>\n",
       "      <td>21.213203</td>\n",
       "      <td>1416.0</td>\n",
       "      <td>21.213203</td>\n",
       "    </tr>\n",
       "    <tr>\n",
       "      <th>7</th>\n",
       "      <td>DSC03182.JPG</td>\n",
       "      <td>1610</td>\n",
       "      <td>15</td>\n",
       "      <td>1144</td>\n",
       "      <td>15</td>\n",
       "      <td>1.00995</td>\n",
       "      <td>0.0001</td>\n",
       "      <td>466</td>\n",
       "      <td>21.213203</td>\n",
       "      <td>1377.0</td>\n",
       "      <td>21.213203</td>\n",
       "    </tr>\n",
       "    <tr>\n",
       "      <th>8</th>\n",
       "      <td>DSC03183.JPG</td>\n",
       "      <td>1604</td>\n",
       "      <td>15</td>\n",
       "      <td>1089</td>\n",
       "      <td>15</td>\n",
       "      <td>1.05120</td>\n",
       "      <td>0.0001</td>\n",
       "      <td>515</td>\n",
       "      <td>21.213203</td>\n",
       "      <td>1346.5</td>\n",
       "      <td>21.213203</td>\n",
       "    </tr>\n",
       "    <tr>\n",
       "      <th>9</th>\n",
       "      <td>DSC03184.JPG</td>\n",
       "      <td>1597</td>\n",
       "      <td>15</td>\n",
       "      <td>1017</td>\n",
       "      <td>15</td>\n",
       "      <td>1.10904</td>\n",
       "      <td>0.0001</td>\n",
       "      <td>580</td>\n",
       "      <td>21.213203</td>\n",
       "      <td>1307.0</td>\n",
       "      <td>21.213203</td>\n",
       "    </tr>\n",
       "    <tr>\n",
       "      <th>10</th>\n",
       "      <td>DSC03185.JPG</td>\n",
       "      <td>1595</td>\n",
       "      <td>15</td>\n",
       "      <td>957</td>\n",
       "      <td>15</td>\n",
       "      <td>1.15601</td>\n",
       "      <td>0.0001</td>\n",
       "      <td>638</td>\n",
       "      <td>21.213203</td>\n",
       "      <td>1276.0</td>\n",
       "      <td>21.213203</td>\n",
       "    </tr>\n",
       "    <tr>\n",
       "      <th>11</th>\n",
       "      <td>DSC03186.JPG</td>\n",
       "      <td>1593</td>\n",
       "      <td>15</td>\n",
       "      <td>898</td>\n",
       "      <td>15</td>\n",
       "      <td>1.20000</td>\n",
       "      <td>0.0001</td>\n",
       "      <td>695</td>\n",
       "      <td>21.213203</td>\n",
       "      <td>1245.5</td>\n",
       "      <td>21.213203</td>\n",
       "    </tr>\n",
       "    <tr>\n",
       "      <th>12</th>\n",
       "      <td>DSC03187.JPG</td>\n",
       "      <td>1592</td>\n",
       "      <td>15</td>\n",
       "      <td>840</td>\n",
       "      <td>15</td>\n",
       "      <td>1.25010</td>\n",
       "      <td>0.0001</td>\n",
       "      <td>752</td>\n",
       "      <td>21.213203</td>\n",
       "      <td>1216.0</td>\n",
       "      <td>21.213203</td>\n",
       "    </tr>\n",
       "    <tr>\n",
       "      <th>13</th>\n",
       "      <td>DSC03188.JPG</td>\n",
       "      <td>1583</td>\n",
       "      <td>15</td>\n",
       "      <td>774</td>\n",
       "      <td>15</td>\n",
       "      <td>1.30000</td>\n",
       "      <td>0.0001</td>\n",
       "      <td>809</td>\n",
       "      <td>21.213203</td>\n",
       "      <td>1178.5</td>\n",
       "      <td>21.213203</td>\n",
       "    </tr>\n",
       "    <tr>\n",
       "      <th>14</th>\n",
       "      <td>DSC03189.JPG</td>\n",
       "      <td>1577</td>\n",
       "      <td>15</td>\n",
       "      <td>703</td>\n",
       "      <td>15</td>\n",
       "      <td>1.35050</td>\n",
       "      <td>0.0001</td>\n",
       "      <td>874</td>\n",
       "      <td>21.213203</td>\n",
       "      <td>1140.0</td>\n",
       "      <td>21.213203</td>\n",
       "    </tr>\n",
       "  </tbody>\n",
       "</table>\n",
       "</div>"
      ],
      "text/plain": [
       "    picture_name  bottom_pixel  bottom_pixel_error  top_pixel  \\\n",
       "1   DSC03176.JPG          1635                  15       1518   \n",
       "2   DSC03177.JPG          1631                  15       1466   \n",
       "3   DSC03178.JPG          1628                  15       1404   \n",
       "4   DSC03179.JPG          1622                  15       1346   \n",
       "5   DSC03180.JPG          1617                  15       1285   \n",
       "6   DSC03181.JPG          1611                  15       1221   \n",
       "7   DSC03182.JPG          1610                  15       1144   \n",
       "8   DSC03183.JPG          1604                  15       1089   \n",
       "9   DSC03184.JPG          1597                  15       1017   \n",
       "10  DSC03185.JPG          1595                  15        957   \n",
       "11  DSC03186.JPG          1593                  15        898   \n",
       "12  DSC03187.JPG          1592                  15        840   \n",
       "13  DSC03188.JPG          1583                  15        774   \n",
       "14  DSC03189.JPG          1577                  15        703   \n",
       "\n",
       "    top_pixel_error  DC-volts  DC_error-volts  length-pixels  \\\n",
       "1                15   0.71537          0.0001            117   \n",
       "2                15   0.75569          0.0001            165   \n",
       "3                15   0.80554          0.0001            224   \n",
       "4                15   0.85004          0.0001            276   \n",
       "5                15   0.90011          0.0001            332   \n",
       "6                15   0.95268          0.0001            390   \n",
       "7                15   1.00995          0.0001            466   \n",
       "8                15   1.05120          0.0001            515   \n",
       "9                15   1.10904          0.0001            580   \n",
       "10               15   1.15601          0.0001            638   \n",
       "11               15   1.20000          0.0001            695   \n",
       "12               15   1.25010          0.0001            752   \n",
       "13               15   1.30000          0.0001            809   \n",
       "14               15   1.35050          0.0001            874   \n",
       "\n",
       "    length_error-pixels  height-pixels  height_error-pixels  \n",
       "1             21.213203         1576.5            21.213203  \n",
       "2             21.213203         1548.5            21.213203  \n",
       "3             21.213203         1516.0            21.213203  \n",
       "4             21.213203         1484.0            21.213203  \n",
       "5             21.213203         1451.0            21.213203  \n",
       "6             21.213203         1416.0            21.213203  \n",
       "7             21.213203         1377.0            21.213203  \n",
       "8             21.213203         1346.5            21.213203  \n",
       "9             21.213203         1307.0            21.213203  \n",
       "10            21.213203         1276.0            21.213203  \n",
       "11            21.213203         1245.5            21.213203  \n",
       "12            21.213203         1216.0            21.213203  \n",
       "13            21.213203         1178.5            21.213203  \n",
       "14            21.213203         1140.0            21.213203  "
      ]
     },
     "execution_count": 65,
     "metadata": {},
     "output_type": "execute_result"
    }
   ],
   "source": [
    "df = pd.read_excel(\"data.xlsx\", sheet_name=\"1_filtered_data\", index_col=0)\n",
    "# Dropping measurements with very high errors\n",
    "df = df.drop(list(range(20,31)) + [16, 18, 15, 0])\n",
    "df"
   ]
  },
  {
   "cell_type": "code",
   "execution_count": 66,
   "metadata": {},
   "outputs": [
    {
     "name": "stdout",
     "output_type": "stream",
     "text": [
      "results <scipy.odr._odrpack.Output object at 0x11f0759d0>,\n",
      "chi_square 0.2500845267329391,\n",
      "deegres_freedom 12,\n",
      "chi_square_reduced 0.020840377227744927,\n",
      "p_value 0.9999999952300537\n"
     ]
    }
   ],
   "source": [
    "results, chi_square, deegres_freedom, chi_square_reduced, p_value = odr_fit.perform_odr(\n",
    "    df[\"DC-volts\"].values,\n",
    "    df[\"DC_error-volts\"].values,\n",
    "    df[\"length-pixels\"].values,\n",
    "    df[\"length_error-pixels\"].values,\n",
    ")\n",
    "\n",
    "print(\n",
    "    f\"results {results},\\nchi_square {chi_square},\\ndeegres_freedom {deegres_freedom},\\nchi_square_reduced {chi_square_reduced},\\np_value {p_value}\"\n",
    ")"
   ]
  },
  {
   "cell_type": "markdown",
   "metadata": {},
   "source": [
    "Plot length"
   ]
  },
  {
   "cell_type": "code",
   "execution_count": 67,
   "metadata": {},
   "outputs": [],
   "source": [
    "\n",
    "odr_fit.plot_fit(\n",
    "    df[\"DC-volts\"].values,\n",
    "    df[\"DC_error-volts\"].values,\n",
    "    df[\"length-pixels\"].values,\n",
    "    df[\"length_error-pixels\"].values,\n",
    "    results,\n",
    "    \"plot_fit.png\",\n",
    ")"
   ]
  },
  {
   "cell_type": "markdown",
   "metadata": {},
   "source": [
    "Plot height"
   ]
  },
  {
   "cell_type": "code",
   "execution_count": 68,
   "metadata": {},
   "outputs": [],
   "source": [
    "odr_fit.plot_residuals(\n",
    "    df[\"DC-volts\"].values,\n",
    "    df[\"DC_error-volts\"].values,\n",
    "    df[\"length-pixels\"].values,\n",
    "    df[\"length_error-pixels\"].values,\n",
    "    results,\n",
    "    \"plot_residuals.png\",\n",
    ")"
   ]
  },
  {
   "cell_type": "markdown",
   "metadata": {},
   "source": [
    "### Stick measurements\n",
    "Get pixel length in mm"
   ]
  },
  {
   "cell_type": "code",
   "execution_count": null,
   "metadata": {},
   "outputs": [
    {
     "data": {
      "text/plain": [
       "(np.float64(0.05934615365156852), np.float64(0.0001684304848405296))"
      ]
     },
     "execution_count": 83,
     "metadata": {},
     "output_type": "execute_result"
    }
   ],
   "source": [
    "df = pd.read_excel(\"data.xlsx\", sheet_name=\"2_stick_measurements\", index_col=0)\n",
    "\n",
    "stick_diameter_in_mm = 125\n",
    "stick_diameter_measurements = df[\"diameter_length-pixels\"].values\n",
    "\n",
    "# Calculate stick diameter in pixels, using mean\n",
    "stick_diameter_in_pixels = np.mean(stick_diameter_measurements)\n",
    "\n",
    "# Calculate the error:\n",
    "# Calculating the standard error of the mean, applying Bessel's correction\n",
    "std_dev = np.std(stick_diameter_measurements, ddof=1)\n",
    "sem = std_dev / np.sqrt(len(stick_diameter_measurements))\n",
    "# Getting the measurement error from the data - it is constant for all measurements\n",
    "measurement_error_in_pixels = df[\"diameter_length_error-pixels\"].values[0]\n",
    "# Calculating the total error\n",
    "stick_diameter_error_in_pixels = np.sqrt(measurement_error_in_pixels ** 2 + sem ** 2)\n",
    "\n",
    "# Calculate the pixel to mm conversion factor\n",
    "pixel_to_mm = stick_diameter_in_mm / stick_diameter_in_pixels\n",
    "pixel_to_mm_error = pixel_to_mm * stick_diameter_error_in_pixels / stick_diameter_in_pixels\n",
    "\n",
    "pixel_to_mm, pixel_to_mm_error"
   ]
  },
  {
   "cell_type": "markdown",
   "metadata": {},
   "source": [
    "### Particle mass measurement\n",
    "Measure the particle's diameter"
   ]
  },
  {
   "cell_type": "code",
   "execution_count": 84,
   "metadata": {},
   "outputs": [
    {
     "data": {
      "text/plain": [
       "(np.float64(2.9475256313612364), np.float64(0.07181409158178655))"
      ]
     },
     "execution_count": 84,
     "metadata": {},
     "output_type": "execute_result"
    }
   ],
   "source": [
    "df = pd.read_excel(\"data.xlsx\", sheet_name=\"3_particle_measurements\", index_col=0)\n",
    "particle_diameter_measurements = df[\"diameter-pixels\"].values\n",
    "\n",
    "# Calculate particle diameter in pixels\n",
    "particle_diameter_in_pixels = np.mean(particle_diameter_measurements)\n",
    "\n",
    "# Calculate the statistical error\n",
    "particle_diameter_error_in_pixels = np.std(particle_diameter_measurements, ddof=1) / np.sqrt(len(particle_diameter_measurements))\n",
    "\n",
    "# Particle diameter in mm\n",
    "particle_diameter_in_mm = particle_diameter_in_pixels * pixel_to_mm\n",
    "particle_diameter_error_in_mm = np.sqrt(\n",
    "    (particle_diameter_error_in_pixels * pixel_to_mm) ** 2 + (particle_diameter_in_pixels * pixel_to_mm_error) ** 2\n",
    ")\n",
    "\n",
    "particle_diameter_in_mm, particle_diameter_error_in_mm"
   ]
  },
  {
   "cell_type": "markdown",
   "metadata": {},
   "source": [
    "Calculate the particle's volume"
   ]
  },
  {
   "cell_type": "code",
   "execution_count": null,
   "metadata": {},
   "outputs": [
    {
     "data": {
      "text/plain": [
       "(np.float64(13.408228218918053), np.float64(0.9800420926126291))"
      ]
     },
     "execution_count": 86,
     "metadata": {},
     "output_type": "execute_result"
    }
   ],
   "source": [
    "# Assuming the particle is a sphere:\n",
    "particle_volume_in_mm_cubed = (np.pi * (particle_diameter_in_mm ** 3)) / 6\n",
    "particle_volume_error_in_mm_cubed = particle_volume_in_mm_cubed * 3 * (particle_diameter_error_in_mm / particle_diameter_in_mm)\n",
    "\n",
    "particle_volume_in_mm_cubed, particle_volume_error_in_mm_cubed"
   ]
  },
  {
   "cell_type": "markdown",
   "metadata": {},
   "source": [
    "Calculate the particle's mass using known density"
   ]
  },
  {
   "cell_type": "code",
   "execution_count": 91,
   "metadata": {},
   "outputs": [
    {
     "data": {
      "text/plain": [
       "(np.float64(6.838196391648207e-06), np.float64(7.33123750440084e-07))"
      ]
     },
     "execution_count": 91,
     "metadata": {},
     "output_type": "execute_result"
    }
   ],
   "source": [
    "PARTICLE_DENSITY_IN_KG_TO_M_CUBED = 510\n",
    "PARTICLE_DENSITY_ERROR_IN_KG_TO_M_CUBED = 40\n",
    "\n",
    "particle_volume_in_m_cubed = particle_volume_in_mm_cubed * 1e-9\n",
    "particle_volume_error_in_m_cubed = particle_volume_error_in_mm_cubed * 1e-9\n",
    "\n",
    "particle_mass_in_kg = particle_volume_in_m_cubed * PARTICLE_DENSITY_IN_KG_TO_M_CUBED\n",
    "particle_mass_error_in_kg = np.sqrt(\n",
    "    (particle_volume_error_in_m_cubed * PARTICLE_DENSITY_IN_KG_TO_M_CUBED) ** 2 + (particle_volume_in_m_cubed * PARTICLE_DENSITY_ERROR_IN_KG_TO_M_CUBED) ** 2\n",
    ")\n",
    "\n",
    "particle_mass_in_kg, particle_mass_error_in_kg"
   ]
  },
  {
   "cell_type": "markdown",
   "metadata": {},
   "source": [
    "### Particle charge\n"
   ]
  },
  {
   "cell_type": "code",
   "execution_count": null,
   "metadata": {},
   "outputs": [],
   "source": []
  }
 ],
 "metadata": {
  "kernelspec": {
   "display_name": ".venv",
   "language": "python",
   "name": "python3"
  },
  "language_info": {
   "codemirror_mode": {
    "name": "ipython",
    "version": 3
   },
   "file_extension": ".py",
   "mimetype": "text/x-python",
   "name": "python",
   "nbconvert_exporter": "python",
   "pygments_lexer": "ipython3",
   "version": "3.12.3"
  }
 },
 "nbformat": 4,
 "nbformat_minor": 2
}
